{
  "cells": [
    {
      "cell_type": "markdown",
      "metadata": {
        "id": "view-in-github",
        "colab_type": "text"
      },
      "source": [
        "<a href=\"https://colab.research.google.com/github/shahisha/End-to-End-Machine-Learning/blob/main/KmeansClustering.ipynb\" target=\"_parent\"><img src=\"https://colab.research.google.com/assets/colab-badge.svg\" alt=\"Open In Colab\"/></a>"
      ]
    },
    {
      "cell_type": "markdown",
      "metadata": {
        "id": "_sI5qXVsNaaO"
      },
      "source": [
        "# Importing Libraries & Data"
      ]
    },
    {
      "cell_type": "code",
      "execution_count": null,
      "metadata": {
        "id": "I6iXMk-UNaaR"
      },
      "outputs": [],
      "source": [
        "import pandas as pd\n",
        "import numpy as np\n",
        "import matplotlib.pyplot as plt\n",
        "%matplotlib inline\n",
        "\n",
        "from sklearn.cluster import KMeans\n",
        "from sklearn.preprocessing import StandardScaler\n",
        "from sklearn.metrics import confusion_matrix,classification_report"
      ]
    },
    {
      "cell_type": "code",
      "execution_count": null,
      "metadata": {
        "id": "g4_Inq6MNaaW",
        "colab": {
          "base_uri": "https://localhost:8080/",
          "height": 206
        },
        "outputId": "2d93310f-30a3-46f8-df00-db2d0c7436a0"
      },
      "outputs": [
        {
          "output_type": "execute_result",
          "data": {
            "text/plain": [
              "        RI     Na    Mg    Al     Si     K    Ca   Ba   Fe\n",
              "0  1.52101  13.64  4.49  1.10  71.78  0.06  8.75  0.0  0.0\n",
              "1  1.51761  13.89  3.60  1.36  72.73  0.48  7.83  0.0  0.0\n",
              "2  1.51618  13.53  3.55  1.54  72.99  0.39  7.78  0.0  0.0\n",
              "3  1.51766  13.21  3.69  1.29  72.61  0.57  8.22  0.0  0.0\n",
              "4  1.51742  13.27  3.62  1.24  73.08  0.55  8.07  0.0  0.0"
            ],
            "text/html": [
              "\n",
              "  <div id=\"df-bd32bad8-c7b9-47b6-bcd2-2b622a68a9b1\">\n",
              "    <div class=\"colab-df-container\">\n",
              "      <div>\n",
              "<style scoped>\n",
              "    .dataframe tbody tr th:only-of-type {\n",
              "        vertical-align: middle;\n",
              "    }\n",
              "\n",
              "    .dataframe tbody tr th {\n",
              "        vertical-align: top;\n",
              "    }\n",
              "\n",
              "    .dataframe thead th {\n",
              "        text-align: right;\n",
              "    }\n",
              "</style>\n",
              "<table border=\"1\" class=\"dataframe\">\n",
              "  <thead>\n",
              "    <tr style=\"text-align: right;\">\n",
              "      <th></th>\n",
              "      <th>RI</th>\n",
              "      <th>Na</th>\n",
              "      <th>Mg</th>\n",
              "      <th>Al</th>\n",
              "      <th>Si</th>\n",
              "      <th>K</th>\n",
              "      <th>Ca</th>\n",
              "      <th>Ba</th>\n",
              "      <th>Fe</th>\n",
              "    </tr>\n",
              "  </thead>\n",
              "  <tbody>\n",
              "    <tr>\n",
              "      <th>0</th>\n",
              "      <td>1.52101</td>\n",
              "      <td>13.64</td>\n",
              "      <td>4.49</td>\n",
              "      <td>1.10</td>\n",
              "      <td>71.78</td>\n",
              "      <td>0.06</td>\n",
              "      <td>8.75</td>\n",
              "      <td>0.0</td>\n",
              "      <td>0.0</td>\n",
              "    </tr>\n",
              "    <tr>\n",
              "      <th>1</th>\n",
              "      <td>1.51761</td>\n",
              "      <td>13.89</td>\n",
              "      <td>3.60</td>\n",
              "      <td>1.36</td>\n",
              "      <td>72.73</td>\n",
              "      <td>0.48</td>\n",
              "      <td>7.83</td>\n",
              "      <td>0.0</td>\n",
              "      <td>0.0</td>\n",
              "    </tr>\n",
              "    <tr>\n",
              "      <th>2</th>\n",
              "      <td>1.51618</td>\n",
              "      <td>13.53</td>\n",
              "      <td>3.55</td>\n",
              "      <td>1.54</td>\n",
              "      <td>72.99</td>\n",
              "      <td>0.39</td>\n",
              "      <td>7.78</td>\n",
              "      <td>0.0</td>\n",
              "      <td>0.0</td>\n",
              "    </tr>\n",
              "    <tr>\n",
              "      <th>3</th>\n",
              "      <td>1.51766</td>\n",
              "      <td>13.21</td>\n",
              "      <td>3.69</td>\n",
              "      <td>1.29</td>\n",
              "      <td>72.61</td>\n",
              "      <td>0.57</td>\n",
              "      <td>8.22</td>\n",
              "      <td>0.0</td>\n",
              "      <td>0.0</td>\n",
              "    </tr>\n",
              "    <tr>\n",
              "      <th>4</th>\n",
              "      <td>1.51742</td>\n",
              "      <td>13.27</td>\n",
              "      <td>3.62</td>\n",
              "      <td>1.24</td>\n",
              "      <td>73.08</td>\n",
              "      <td>0.55</td>\n",
              "      <td>8.07</td>\n",
              "      <td>0.0</td>\n",
              "      <td>0.0</td>\n",
              "    </tr>\n",
              "  </tbody>\n",
              "</table>\n",
              "</div>\n",
              "      <button class=\"colab-df-convert\" onclick=\"convertToInteractive('df-bd32bad8-c7b9-47b6-bcd2-2b622a68a9b1')\"\n",
              "              title=\"Convert this dataframe to an interactive table.\"\n",
              "              style=\"display:none;\">\n",
              "        \n",
              "  <svg xmlns=\"http://www.w3.org/2000/svg\" height=\"24px\"viewBox=\"0 0 24 24\"\n",
              "       width=\"24px\">\n",
              "    <path d=\"M0 0h24v24H0V0z\" fill=\"none\"/>\n",
              "    <path d=\"M18.56 5.44l.94 2.06.94-2.06 2.06-.94-2.06-.94-.94-2.06-.94 2.06-2.06.94zm-11 1L8.5 8.5l.94-2.06 2.06-.94-2.06-.94L8.5 2.5l-.94 2.06-2.06.94zm10 10l.94 2.06.94-2.06 2.06-.94-2.06-.94-.94-2.06-.94 2.06-2.06.94z\"/><path d=\"M17.41 7.96l-1.37-1.37c-.4-.4-.92-.59-1.43-.59-.52 0-1.04.2-1.43.59L10.3 9.45l-7.72 7.72c-.78.78-.78 2.05 0 2.83L4 21.41c.39.39.9.59 1.41.59.51 0 1.02-.2 1.41-.59l7.78-7.78 2.81-2.81c.8-.78.8-2.07 0-2.86zM5.41 20L4 18.59l7.72-7.72 1.47 1.35L5.41 20z\"/>\n",
              "  </svg>\n",
              "      </button>\n",
              "      \n",
              "  <style>\n",
              "    .colab-df-container {\n",
              "      display:flex;\n",
              "      flex-wrap:wrap;\n",
              "      gap: 12px;\n",
              "    }\n",
              "\n",
              "    .colab-df-convert {\n",
              "      background-color: #E8F0FE;\n",
              "      border: none;\n",
              "      border-radius: 50%;\n",
              "      cursor: pointer;\n",
              "      display: none;\n",
              "      fill: #1967D2;\n",
              "      height: 32px;\n",
              "      padding: 0 0 0 0;\n",
              "      width: 32px;\n",
              "    }\n",
              "\n",
              "    .colab-df-convert:hover {\n",
              "      background-color: #E2EBFA;\n",
              "      box-shadow: 0px 1px 2px rgba(60, 64, 67, 0.3), 0px 1px 3px 1px rgba(60, 64, 67, 0.15);\n",
              "      fill: #174EA6;\n",
              "    }\n",
              "\n",
              "    [theme=dark] .colab-df-convert {\n",
              "      background-color: #3B4455;\n",
              "      fill: #D2E3FC;\n",
              "    }\n",
              "\n",
              "    [theme=dark] .colab-df-convert:hover {\n",
              "      background-color: #434B5C;\n",
              "      box-shadow: 0px 1px 3px 1px rgba(0, 0, 0, 0.15);\n",
              "      filter: drop-shadow(0px 1px 2px rgba(0, 0, 0, 0.3));\n",
              "      fill: #FFFFFF;\n",
              "    }\n",
              "  </style>\n",
              "\n",
              "      <script>\n",
              "        const buttonEl =\n",
              "          document.querySelector('#df-bd32bad8-c7b9-47b6-bcd2-2b622a68a9b1 button.colab-df-convert');\n",
              "        buttonEl.style.display =\n",
              "          google.colab.kernel.accessAllowed ? 'block' : 'none';\n",
              "\n",
              "        async function convertToInteractive(key) {\n",
              "          const element = document.querySelector('#df-bd32bad8-c7b9-47b6-bcd2-2b622a68a9b1');\n",
              "          const dataTable =\n",
              "            await google.colab.kernel.invokeFunction('convertToInteractive',\n",
              "                                                     [key], {});\n",
              "          if (!dataTable) return;\n",
              "\n",
              "          const docLinkHtml = 'Like what you see? Visit the ' +\n",
              "            '<a target=\"_blank\" href=https://colab.research.google.com/notebooks/data_table.ipynb>data table notebook</a>'\n",
              "            + ' to learn more about interactive tables.';\n",
              "          element.innerHTML = '';\n",
              "          dataTable['output_type'] = 'display_data';\n",
              "          await google.colab.output.renderOutput(dataTable, element);\n",
              "          const docLink = document.createElement('div');\n",
              "          docLink.innerHTML = docLinkHtml;\n",
              "          element.appendChild(docLink);\n",
              "        }\n",
              "      </script>\n",
              "    </div>\n",
              "  </div>\n",
              "  "
            ]
          },
          "metadata": {},
          "execution_count": 96
        }
      ],
      "source": [
        "data=pd.read_csv(\"/content/glass.csv\")\n",
        "data.head()"
      ]
    },
    {
      "cell_type": "code",
      "execution_count": null,
      "metadata": {
        "id": "CqANhezENaaX",
        "colab": {
          "base_uri": "https://localhost:8080/"
        },
        "outputId": "120995e3-4369-47ee-bd98-a8f58cc6b99c"
      },
      "outputs": [
        {
          "output_type": "stream",
          "name": "stdout",
          "text": [
            "<class 'pandas.core.frame.DataFrame'>\n",
            "RangeIndex: 214 entries, 0 to 213\n",
            "Data columns (total 9 columns):\n",
            " #   Column  Non-Null Count  Dtype  \n",
            "---  ------  --------------  -----  \n",
            " 0   RI      214 non-null    float64\n",
            " 1   Na      214 non-null    float64\n",
            " 2   Mg      214 non-null    float64\n",
            " 3   Al      214 non-null    float64\n",
            " 4   Si      214 non-null    float64\n",
            " 5   K       214 non-null    float64\n",
            " 6   Ca      214 non-null    float64\n",
            " 7   Ba      214 non-null    float64\n",
            " 8   Fe      214 non-null    float64\n",
            "dtypes: float64(9)\n",
            "memory usage: 15.2 KB\n"
          ]
        }
      ],
      "source": [
        "data.info()"
      ]
    },
    {
      "cell_type": "markdown",
      "metadata": {
        "id": "gYNKYPPBNaaZ"
      },
      "source": [
        "Dataset has no null values"
      ]
    },
    {
      "cell_type": "code",
      "execution_count": null,
      "metadata": {
        "id": "FAzRFzimNaab",
        "colab": {
          "base_uri": "https://localhost:8080/",
          "height": 300
        },
        "outputId": "fb7ea969-0cba-48eb-b1fc-8be6b9dd6494"
      },
      "outputs": [
        {
          "output_type": "execute_result",
          "data": {
            "text/plain": [
              "               RI          Na          Mg          Al          Si           K  \\\n",
              "count  214.000000  214.000000  214.000000  214.000000  214.000000  214.000000   \n",
              "mean     1.518365   13.407850    2.684533    1.444907   72.650935    0.497056   \n",
              "std      0.003037    0.816604    1.442408    0.499270    0.774546    0.652192   \n",
              "min      1.511150   10.730000    0.000000    0.290000   69.810000    0.000000   \n",
              "25%      1.516522   12.907500    2.115000    1.190000   72.280000    0.122500   \n",
              "50%      1.517680   13.300000    3.480000    1.360000   72.790000    0.555000   \n",
              "75%      1.519157   13.825000    3.600000    1.630000   73.087500    0.610000   \n",
              "max      1.533930   17.380000    4.490000    3.500000   75.410000    6.210000   \n",
              "\n",
              "               Ca          Ba          Fe  \n",
              "count  214.000000  214.000000  214.000000  \n",
              "mean     8.956963    0.175047    0.057009  \n",
              "std      1.423153    0.497219    0.097439  \n",
              "min      5.430000    0.000000    0.000000  \n",
              "25%      8.240000    0.000000    0.000000  \n",
              "50%      8.600000    0.000000    0.000000  \n",
              "75%      9.172500    0.000000    0.100000  \n",
              "max     16.190000    3.150000    0.510000  "
            ],
            "text/html": [
              "\n",
              "  <div id=\"df-428cbbe2-3a8e-4dc7-bfbc-280cb170f7df\">\n",
              "    <div class=\"colab-df-container\">\n",
              "      <div>\n",
              "<style scoped>\n",
              "    .dataframe tbody tr th:only-of-type {\n",
              "        vertical-align: middle;\n",
              "    }\n",
              "\n",
              "    .dataframe tbody tr th {\n",
              "        vertical-align: top;\n",
              "    }\n",
              "\n",
              "    .dataframe thead th {\n",
              "        text-align: right;\n",
              "    }\n",
              "</style>\n",
              "<table border=\"1\" class=\"dataframe\">\n",
              "  <thead>\n",
              "    <tr style=\"text-align: right;\">\n",
              "      <th></th>\n",
              "      <th>RI</th>\n",
              "      <th>Na</th>\n",
              "      <th>Mg</th>\n",
              "      <th>Al</th>\n",
              "      <th>Si</th>\n",
              "      <th>K</th>\n",
              "      <th>Ca</th>\n",
              "      <th>Ba</th>\n",
              "      <th>Fe</th>\n",
              "    </tr>\n",
              "  </thead>\n",
              "  <tbody>\n",
              "    <tr>\n",
              "      <th>count</th>\n",
              "      <td>214.000000</td>\n",
              "      <td>214.000000</td>\n",
              "      <td>214.000000</td>\n",
              "      <td>214.000000</td>\n",
              "      <td>214.000000</td>\n",
              "      <td>214.000000</td>\n",
              "      <td>214.000000</td>\n",
              "      <td>214.000000</td>\n",
              "      <td>214.000000</td>\n",
              "    </tr>\n",
              "    <tr>\n",
              "      <th>mean</th>\n",
              "      <td>1.518365</td>\n",
              "      <td>13.407850</td>\n",
              "      <td>2.684533</td>\n",
              "      <td>1.444907</td>\n",
              "      <td>72.650935</td>\n",
              "      <td>0.497056</td>\n",
              "      <td>8.956963</td>\n",
              "      <td>0.175047</td>\n",
              "      <td>0.057009</td>\n",
              "    </tr>\n",
              "    <tr>\n",
              "      <th>std</th>\n",
              "      <td>0.003037</td>\n",
              "      <td>0.816604</td>\n",
              "      <td>1.442408</td>\n",
              "      <td>0.499270</td>\n",
              "      <td>0.774546</td>\n",
              "      <td>0.652192</td>\n",
              "      <td>1.423153</td>\n",
              "      <td>0.497219</td>\n",
              "      <td>0.097439</td>\n",
              "    </tr>\n",
              "    <tr>\n",
              "      <th>min</th>\n",
              "      <td>1.511150</td>\n",
              "      <td>10.730000</td>\n",
              "      <td>0.000000</td>\n",
              "      <td>0.290000</td>\n",
              "      <td>69.810000</td>\n",
              "      <td>0.000000</td>\n",
              "      <td>5.430000</td>\n",
              "      <td>0.000000</td>\n",
              "      <td>0.000000</td>\n",
              "    </tr>\n",
              "    <tr>\n",
              "      <th>25%</th>\n",
              "      <td>1.516522</td>\n",
              "      <td>12.907500</td>\n",
              "      <td>2.115000</td>\n",
              "      <td>1.190000</td>\n",
              "      <td>72.280000</td>\n",
              "      <td>0.122500</td>\n",
              "      <td>8.240000</td>\n",
              "      <td>0.000000</td>\n",
              "      <td>0.000000</td>\n",
              "    </tr>\n",
              "    <tr>\n",
              "      <th>50%</th>\n",
              "      <td>1.517680</td>\n",
              "      <td>13.300000</td>\n",
              "      <td>3.480000</td>\n",
              "      <td>1.360000</td>\n",
              "      <td>72.790000</td>\n",
              "      <td>0.555000</td>\n",
              "      <td>8.600000</td>\n",
              "      <td>0.000000</td>\n",
              "      <td>0.000000</td>\n",
              "    </tr>\n",
              "    <tr>\n",
              "      <th>75%</th>\n",
              "      <td>1.519157</td>\n",
              "      <td>13.825000</td>\n",
              "      <td>3.600000</td>\n",
              "      <td>1.630000</td>\n",
              "      <td>73.087500</td>\n",
              "      <td>0.610000</td>\n",
              "      <td>9.172500</td>\n",
              "      <td>0.000000</td>\n",
              "      <td>0.100000</td>\n",
              "    </tr>\n",
              "    <tr>\n",
              "      <th>max</th>\n",
              "      <td>1.533930</td>\n",
              "      <td>17.380000</td>\n",
              "      <td>4.490000</td>\n",
              "      <td>3.500000</td>\n",
              "      <td>75.410000</td>\n",
              "      <td>6.210000</td>\n",
              "      <td>16.190000</td>\n",
              "      <td>3.150000</td>\n",
              "      <td>0.510000</td>\n",
              "    </tr>\n",
              "  </tbody>\n",
              "</table>\n",
              "</div>\n",
              "      <button class=\"colab-df-convert\" onclick=\"convertToInteractive('df-428cbbe2-3a8e-4dc7-bfbc-280cb170f7df')\"\n",
              "              title=\"Convert this dataframe to an interactive table.\"\n",
              "              style=\"display:none;\">\n",
              "        \n",
              "  <svg xmlns=\"http://www.w3.org/2000/svg\" height=\"24px\"viewBox=\"0 0 24 24\"\n",
              "       width=\"24px\">\n",
              "    <path d=\"M0 0h24v24H0V0z\" fill=\"none\"/>\n",
              "    <path d=\"M18.56 5.44l.94 2.06.94-2.06 2.06-.94-2.06-.94-.94-2.06-.94 2.06-2.06.94zm-11 1L8.5 8.5l.94-2.06 2.06-.94-2.06-.94L8.5 2.5l-.94 2.06-2.06.94zm10 10l.94 2.06.94-2.06 2.06-.94-2.06-.94-.94-2.06-.94 2.06-2.06.94z\"/><path d=\"M17.41 7.96l-1.37-1.37c-.4-.4-.92-.59-1.43-.59-.52 0-1.04.2-1.43.59L10.3 9.45l-7.72 7.72c-.78.78-.78 2.05 0 2.83L4 21.41c.39.39.9.59 1.41.59.51 0 1.02-.2 1.41-.59l7.78-7.78 2.81-2.81c.8-.78.8-2.07 0-2.86zM5.41 20L4 18.59l7.72-7.72 1.47 1.35L5.41 20z\"/>\n",
              "  </svg>\n",
              "      </button>\n",
              "      \n",
              "  <style>\n",
              "    .colab-df-container {\n",
              "      display:flex;\n",
              "      flex-wrap:wrap;\n",
              "      gap: 12px;\n",
              "    }\n",
              "\n",
              "    .colab-df-convert {\n",
              "      background-color: #E8F0FE;\n",
              "      border: none;\n",
              "      border-radius: 50%;\n",
              "      cursor: pointer;\n",
              "      display: none;\n",
              "      fill: #1967D2;\n",
              "      height: 32px;\n",
              "      padding: 0 0 0 0;\n",
              "      width: 32px;\n",
              "    }\n",
              "\n",
              "    .colab-df-convert:hover {\n",
              "      background-color: #E2EBFA;\n",
              "      box-shadow: 0px 1px 2px rgba(60, 64, 67, 0.3), 0px 1px 3px 1px rgba(60, 64, 67, 0.15);\n",
              "      fill: #174EA6;\n",
              "    }\n",
              "\n",
              "    [theme=dark] .colab-df-convert {\n",
              "      background-color: #3B4455;\n",
              "      fill: #D2E3FC;\n",
              "    }\n",
              "\n",
              "    [theme=dark] .colab-df-convert:hover {\n",
              "      background-color: #434B5C;\n",
              "      box-shadow: 0px 1px 3px 1px rgba(0, 0, 0, 0.15);\n",
              "      filter: drop-shadow(0px 1px 2px rgba(0, 0, 0, 0.3));\n",
              "      fill: #FFFFFF;\n",
              "    }\n",
              "  </style>\n",
              "\n",
              "      <script>\n",
              "        const buttonEl =\n",
              "          document.querySelector('#df-428cbbe2-3a8e-4dc7-bfbc-280cb170f7df button.colab-df-convert');\n",
              "        buttonEl.style.display =\n",
              "          google.colab.kernel.accessAllowed ? 'block' : 'none';\n",
              "\n",
              "        async function convertToInteractive(key) {\n",
              "          const element = document.querySelector('#df-428cbbe2-3a8e-4dc7-bfbc-280cb170f7df');\n",
              "          const dataTable =\n",
              "            await google.colab.kernel.invokeFunction('convertToInteractive',\n",
              "                                                     [key], {});\n",
              "          if (!dataTable) return;\n",
              "\n",
              "          const docLinkHtml = 'Like what you see? Visit the ' +\n",
              "            '<a target=\"_blank\" href=https://colab.research.google.com/notebooks/data_table.ipynb>data table notebook</a>'\n",
              "            + ' to learn more about interactive tables.';\n",
              "          element.innerHTML = '';\n",
              "          dataTable['output_type'] = 'display_data';\n",
              "          await google.colab.output.renderOutput(dataTable, element);\n",
              "          const docLink = document.createElement('div');\n",
              "          docLink.innerHTML = docLinkHtml;\n",
              "          element.appendChild(docLink);\n",
              "        }\n",
              "      </script>\n",
              "    </div>\n",
              "  </div>\n",
              "  "
            ]
          },
          "metadata": {},
          "execution_count": 98
        }
      ],
      "source": [
        "data.describe()"
      ]
    },
    {
      "cell_type": "markdown",
      "metadata": {
        "id": "pesf1oucNaac"
      },
      "source": [
        "**There is variation in the magnitude of the data, which can be seen by the mean values of the elements**\n",
        "**Hence we will scale the data**"
      ]
    },
    {
      "cell_type": "markdown",
      "metadata": {
        "id": "39HO-9ydNaae"
      },
      "source": [
        "# Pre-processing"
      ]
    },
    {
      "cell_type": "markdown",
      "metadata": {
        "id": "8fcNiIGQNaah"
      },
      "source": [
        "* Create object of StandardScaler\n",
        "* apply `fit_transform` on the dataset and store the data in the new variable `data_scaled`"
      ]
    },
    {
      "cell_type": "code",
      "execution_count": null,
      "metadata": {
        "id": "7omJr1W8Naai"
      },
      "outputs": [],
      "source": [
        "scaler = StandardScaler()\n",
        "data_scaled = scaler.fit_transform(data)"
      ]
    },
    {
      "cell_type": "code",
      "execution_count": null,
      "metadata": {
        "id": "njnKx6HXNaak",
        "colab": {
          "base_uri": "https://localhost:8080/",
          "height": 300
        },
        "outputId": "7dfef2d1-5cf6-469d-ae5b-0cc0c2f25a7a"
      },
      "outputs": [
        {
          "output_type": "execute_result",
          "data": {
            "text/plain": [
              "                  0             1             2             3             4  \\\n",
              "count  2.140000e+02  2.140000e+02  2.140000e+02  2.140000e+02  2.140000e+02   \n",
              "mean  -2.877034e-14  2.191393e-15 -1.328117e-16 -2.988264e-16  9.525091e-16   \n",
              "std    1.002345e+00  1.002345e+00  1.002345e+00  1.002345e+00  1.002345e+00   \n",
              "min   -2.381516e+00 -3.286943e+00 -1.865511e+00 -2.318616e+00 -3.676472e+00   \n",
              "25%   -6.082728e-01 -6.141580e-01 -3.957744e-01 -5.117560e-01 -4.800288e-01   \n",
              "50%   -2.262293e-01 -1.323817e-01  5.527787e-01 -1.704602e-01  1.799655e-01   \n",
              "75%    2.614331e-01  5.120326e-01  6.361680e-01  3.715977e-01  5.649621e-01   \n",
              "max    5.137232e+00  4.875637e+00  1.254639e+00  4.125851e+00  3.570524e+00   \n",
              "\n",
              "                  5             6             7             8  \n",
              "count  2.140000e+02  2.140000e+02  2.140000e+02  2.140000e+02  \n",
              "mean   3.527811e-17 -3.154278e-16 -6.640586e-17 -3.735330e-17  \n",
              "std    1.002345e+00  1.002345e+00  1.002345e+00  1.002345e+00  \n",
              "min   -7.639186e-01 -2.484084e+00 -3.528768e-01 -5.864509e-01  \n",
              "25%   -5.756501e-01 -5.049657e-01 -3.528768e-01 -5.864509e-01  \n",
              "50%    8.905322e-02 -2.514132e-01 -3.528768e-01 -5.864509e-01  \n",
              "75%    1.735820e-01  1.518057e-01 -3.528768e-01  4.422417e-01  \n",
              "max    8.780145e+00  5.094318e+00  5.997210e+00  4.659881e+00  "
            ],
            "text/html": [
              "\n",
              "  <div id=\"df-ec65c0c0-e204-408d-91d6-756e42220b07\">\n",
              "    <div class=\"colab-df-container\">\n",
              "      <div>\n",
              "<style scoped>\n",
              "    .dataframe tbody tr th:only-of-type {\n",
              "        vertical-align: middle;\n",
              "    }\n",
              "\n",
              "    .dataframe tbody tr th {\n",
              "        vertical-align: top;\n",
              "    }\n",
              "\n",
              "    .dataframe thead th {\n",
              "        text-align: right;\n",
              "    }\n",
              "</style>\n",
              "<table border=\"1\" class=\"dataframe\">\n",
              "  <thead>\n",
              "    <tr style=\"text-align: right;\">\n",
              "      <th></th>\n",
              "      <th>0</th>\n",
              "      <th>1</th>\n",
              "      <th>2</th>\n",
              "      <th>3</th>\n",
              "      <th>4</th>\n",
              "      <th>5</th>\n",
              "      <th>6</th>\n",
              "      <th>7</th>\n",
              "      <th>8</th>\n",
              "    </tr>\n",
              "  </thead>\n",
              "  <tbody>\n",
              "    <tr>\n",
              "      <th>count</th>\n",
              "      <td>2.140000e+02</td>\n",
              "      <td>2.140000e+02</td>\n",
              "      <td>2.140000e+02</td>\n",
              "      <td>2.140000e+02</td>\n",
              "      <td>2.140000e+02</td>\n",
              "      <td>2.140000e+02</td>\n",
              "      <td>2.140000e+02</td>\n",
              "      <td>2.140000e+02</td>\n",
              "      <td>2.140000e+02</td>\n",
              "    </tr>\n",
              "    <tr>\n",
              "      <th>mean</th>\n",
              "      <td>-2.877034e-14</td>\n",
              "      <td>2.191393e-15</td>\n",
              "      <td>-1.328117e-16</td>\n",
              "      <td>-2.988264e-16</td>\n",
              "      <td>9.525091e-16</td>\n",
              "      <td>3.527811e-17</td>\n",
              "      <td>-3.154278e-16</td>\n",
              "      <td>-6.640586e-17</td>\n",
              "      <td>-3.735330e-17</td>\n",
              "    </tr>\n",
              "    <tr>\n",
              "      <th>std</th>\n",
              "      <td>1.002345e+00</td>\n",
              "      <td>1.002345e+00</td>\n",
              "      <td>1.002345e+00</td>\n",
              "      <td>1.002345e+00</td>\n",
              "      <td>1.002345e+00</td>\n",
              "      <td>1.002345e+00</td>\n",
              "      <td>1.002345e+00</td>\n",
              "      <td>1.002345e+00</td>\n",
              "      <td>1.002345e+00</td>\n",
              "    </tr>\n",
              "    <tr>\n",
              "      <th>min</th>\n",
              "      <td>-2.381516e+00</td>\n",
              "      <td>-3.286943e+00</td>\n",
              "      <td>-1.865511e+00</td>\n",
              "      <td>-2.318616e+00</td>\n",
              "      <td>-3.676472e+00</td>\n",
              "      <td>-7.639186e-01</td>\n",
              "      <td>-2.484084e+00</td>\n",
              "      <td>-3.528768e-01</td>\n",
              "      <td>-5.864509e-01</td>\n",
              "    </tr>\n",
              "    <tr>\n",
              "      <th>25%</th>\n",
              "      <td>-6.082728e-01</td>\n",
              "      <td>-6.141580e-01</td>\n",
              "      <td>-3.957744e-01</td>\n",
              "      <td>-5.117560e-01</td>\n",
              "      <td>-4.800288e-01</td>\n",
              "      <td>-5.756501e-01</td>\n",
              "      <td>-5.049657e-01</td>\n",
              "      <td>-3.528768e-01</td>\n",
              "      <td>-5.864509e-01</td>\n",
              "    </tr>\n",
              "    <tr>\n",
              "      <th>50%</th>\n",
              "      <td>-2.262293e-01</td>\n",
              "      <td>-1.323817e-01</td>\n",
              "      <td>5.527787e-01</td>\n",
              "      <td>-1.704602e-01</td>\n",
              "      <td>1.799655e-01</td>\n",
              "      <td>8.905322e-02</td>\n",
              "      <td>-2.514132e-01</td>\n",
              "      <td>-3.528768e-01</td>\n",
              "      <td>-5.864509e-01</td>\n",
              "    </tr>\n",
              "    <tr>\n",
              "      <th>75%</th>\n",
              "      <td>2.614331e-01</td>\n",
              "      <td>5.120326e-01</td>\n",
              "      <td>6.361680e-01</td>\n",
              "      <td>3.715977e-01</td>\n",
              "      <td>5.649621e-01</td>\n",
              "      <td>1.735820e-01</td>\n",
              "      <td>1.518057e-01</td>\n",
              "      <td>-3.528768e-01</td>\n",
              "      <td>4.422417e-01</td>\n",
              "    </tr>\n",
              "    <tr>\n",
              "      <th>max</th>\n",
              "      <td>5.137232e+00</td>\n",
              "      <td>4.875637e+00</td>\n",
              "      <td>1.254639e+00</td>\n",
              "      <td>4.125851e+00</td>\n",
              "      <td>3.570524e+00</td>\n",
              "      <td>8.780145e+00</td>\n",
              "      <td>5.094318e+00</td>\n",
              "      <td>5.997210e+00</td>\n",
              "      <td>4.659881e+00</td>\n",
              "    </tr>\n",
              "  </tbody>\n",
              "</table>\n",
              "</div>\n",
              "      <button class=\"colab-df-convert\" onclick=\"convertToInteractive('df-ec65c0c0-e204-408d-91d6-756e42220b07')\"\n",
              "              title=\"Convert this dataframe to an interactive table.\"\n",
              "              style=\"display:none;\">\n",
              "        \n",
              "  <svg xmlns=\"http://www.w3.org/2000/svg\" height=\"24px\"viewBox=\"0 0 24 24\"\n",
              "       width=\"24px\">\n",
              "    <path d=\"M0 0h24v24H0V0z\" fill=\"none\"/>\n",
              "    <path d=\"M18.56 5.44l.94 2.06.94-2.06 2.06-.94-2.06-.94-.94-2.06-.94 2.06-2.06.94zm-11 1L8.5 8.5l.94-2.06 2.06-.94-2.06-.94L8.5 2.5l-.94 2.06-2.06.94zm10 10l.94 2.06.94-2.06 2.06-.94-2.06-.94-.94-2.06-.94 2.06-2.06.94z\"/><path d=\"M17.41 7.96l-1.37-1.37c-.4-.4-.92-.59-1.43-.59-.52 0-1.04.2-1.43.59L10.3 9.45l-7.72 7.72c-.78.78-.78 2.05 0 2.83L4 21.41c.39.39.9.59 1.41.59.51 0 1.02-.2 1.41-.59l7.78-7.78 2.81-2.81c.8-.78.8-2.07 0-2.86zM5.41 20L4 18.59l7.72-7.72 1.47 1.35L5.41 20z\"/>\n",
              "  </svg>\n",
              "      </button>\n",
              "      \n",
              "  <style>\n",
              "    .colab-df-container {\n",
              "      display:flex;\n",
              "      flex-wrap:wrap;\n",
              "      gap: 12px;\n",
              "    }\n",
              "\n",
              "    .colab-df-convert {\n",
              "      background-color: #E8F0FE;\n",
              "      border: none;\n",
              "      border-radius: 50%;\n",
              "      cursor: pointer;\n",
              "      display: none;\n",
              "      fill: #1967D2;\n",
              "      height: 32px;\n",
              "      padding: 0 0 0 0;\n",
              "      width: 32px;\n",
              "    }\n",
              "\n",
              "    .colab-df-convert:hover {\n",
              "      background-color: #E2EBFA;\n",
              "      box-shadow: 0px 1px 2px rgba(60, 64, 67, 0.3), 0px 1px 3px 1px rgba(60, 64, 67, 0.15);\n",
              "      fill: #174EA6;\n",
              "    }\n",
              "\n",
              "    [theme=dark] .colab-df-convert {\n",
              "      background-color: #3B4455;\n",
              "      fill: #D2E3FC;\n",
              "    }\n",
              "\n",
              "    [theme=dark] .colab-df-convert:hover {\n",
              "      background-color: #434B5C;\n",
              "      box-shadow: 0px 1px 3px 1px rgba(0, 0, 0, 0.15);\n",
              "      filter: drop-shadow(0px 1px 2px rgba(0, 0, 0, 0.3));\n",
              "      fill: #FFFFFF;\n",
              "    }\n",
              "  </style>\n",
              "\n",
              "      <script>\n",
              "        const buttonEl =\n",
              "          document.querySelector('#df-ec65c0c0-e204-408d-91d6-756e42220b07 button.colab-df-convert');\n",
              "        buttonEl.style.display =\n",
              "          google.colab.kernel.accessAllowed ? 'block' : 'none';\n",
              "\n",
              "        async function convertToInteractive(key) {\n",
              "          const element = document.querySelector('#df-ec65c0c0-e204-408d-91d6-756e42220b07');\n",
              "          const dataTable =\n",
              "            await google.colab.kernel.invokeFunction('convertToInteractive',\n",
              "                                                     [key], {});\n",
              "          if (!dataTable) return;\n",
              "\n",
              "          const docLinkHtml = 'Like what you see? Visit the ' +\n",
              "            '<a target=\"_blank\" href=https://colab.research.google.com/notebooks/data_table.ipynb>data table notebook</a>'\n",
              "            + ' to learn more about interactive tables.';\n",
              "          element.innerHTML = '';\n",
              "          dataTable['output_type'] = 'display_data';\n",
              "          await google.colab.output.renderOutput(dataTable, element);\n",
              "          const docLink = document.createElement('div');\n",
              "          docLink.innerHTML = docLinkHtml;\n",
              "          element.appendChild(docLink);\n",
              "        }\n",
              "      </script>\n",
              "    </div>\n",
              "  </div>\n",
              "  "
            ]
          },
          "metadata": {},
          "execution_count": 100
        }
      ],
      "source": [
        "# statistics of scaled data\n",
        "pd.DataFrame(data_scaled).describe()"
      ]
    },
    {
      "cell_type": "markdown",
      "metadata": {
        "id": "hgZq4bQuNaal"
      },
      "source": [
        "Now the data of of same scale and we can apply K-Means on this scaled data"
      ]
    },
    {
      "cell_type": "markdown",
      "metadata": {
        "id": "kmPhGynXNaam"
      },
      "source": [
        "# Applying K-Means"
      ]
    },
    {
      "cell_type": "markdown",
      "metadata": {
        "id": "Hz4XieHuNaan"
      },
      "source": [
        "* Set the value of k (`n_clusters`) as 2\n",
        "* Create object of kmeans function with initialization (`init`) as `k-means++`"
      ]
    },
    {
      "cell_type": "code",
      "execution_count": null,
      "metadata": {
        "id": "MbKdo5YZNaao",
        "colab": {
          "base_uri": "https://localhost:8080/"
        },
        "outputId": "fbb1a541-1fa4-4307-d247-7b529c5383f8"
      },
      "outputs": [
        {
          "output_type": "execute_result",
          "data": {
            "text/plain": [
              "KMeans(n_clusters=2, random_state=101)"
            ]
          },
          "metadata": {},
          "execution_count": 101
        }
      ],
      "source": [
        "# kmeans = KMeans(write appropriate params here)\n",
        "kmeans = KMeans(n_clusters = 2, init ='k-means++', random_state = 101)\n",
        "kmeans.fit(data_scaled)"
      ]
    },
    {
      "cell_type": "markdown",
      "metadata": {
        "id": "nO0cdRCwNaap"
      },
      "source": [
        "Print the inertia of the two clusters (Hint: use the attribute `inertia_` of kmeans object )"
      ]
    },
    {
      "cell_type": "code",
      "execution_count": null,
      "metadata": {
        "id": "oD11UEVxNaaq",
        "colab": {
          "base_uri": "https://localhost:8080/"
        },
        "outputId": "48d2936f-778a-46a6-9c98-bd0745682ac9"
      },
      "outputs": [
        {
          "output_type": "execute_result",
          "data": {
            "text/plain": [
              "1528.7756525729064"
            ]
          },
          "metadata": {},
          "execution_count": 102
        }
      ],
      "source": [
        "# find inertia here\n",
        "kmeans.inertia_"
      ]
    },
    {
      "cell_type": "markdown",
      "source": [
        "Inertia measures how well a dataset was clustered by K-Means. It is calculated by measuring the distance between each data point and its centroid, squaring this distance, and summing these squares across one cluster. A good model is one with low inertia AND a low number of clusters ( K )."
      ],
      "metadata": {
        "id": "ttHvaSoPBeCE"
      }
    },
    {
      "cell_type": "code",
      "execution_count": null,
      "metadata": {
        "id": "uz_RhkpYNaar"
      },
      "outputs": [],
      "source": [
        "# fitting multiple k-means algorithms and storing the values in an empty list\n",
        "inertia_list = []\n",
        "for cluster in range(1, 16): # 1...15 clusters\n",
        "    kmeans = KMeans(n_clusters = cluster, init = 'k-means++', random_state = 101)\n",
        "    kmeans.fit(data_scaled)\n",
        "    temp_inertia = kmeans.inertia_\n",
        "    inertia_list.append(temp_inertia)"
      ]
    },
    {
      "cell_type": "code",
      "execution_count": null,
      "metadata": {
        "id": "aJrhBT33Naat",
        "colab": {
          "base_uri": "https://localhost:8080/",
          "height": 409
        },
        "outputId": "970ca8c0-6861-4877-c573-24e812a64cdf"
      },
      "outputs": [
        {
          "output_type": "execute_result",
          "data": {
            "text/plain": [
              "Text(0, 0.5, 'Inertia')"
            ]
          },
          "metadata": {},
          "execution_count": 104
        },
        {
          "output_type": "display_data",
          "data": {
            "text/plain": [
              "<Figure size 864x432 with 1 Axes>"
            ],
            "image/png": "[encoded data removed]"
          },
          "metadata": {
            "needs_background": "light"
          }
        }
      ],
      "source": [
        "# plotting the inerta values for clusters of various sizes\n",
        "plt.figure(figsize=(12, 6))\n",
        "plt.plot(range(1, 16), inertia_list, marker='o')\n",
        "plt.xlabel('Number of clusters')\n",
        "plt.ylabel('Inertia')"
      ]
    },
    {
      "cell_type": "markdown",
      "metadata": {
        "id": "tWunW2SANaav"
      },
      "source": [
        "**What is the appropriate value for the number of clusters according to the above plot?**"
      ]
    },
    {
      "cell_type": "markdown",
      "metadata": {
        "id": "OhGTzvuoNaaw"
      },
      "source": [
        "**Ans:** *Number of clusters (No. of glass types)* = 9"
      ]
    },
    {
      "cell_type": "markdown",
      "metadata": {
        "id": "qT8WVhOwNaaw"
      },
      "source": [
        "* Create kmeans object with the identified number of clusters and init as `k-means++`\n",
        "* fit the model\n",
        "* use predict method on scaled data to find the number of points belonging to the specific clusters"
      ]
    },
    {
      "cell_type": "code",
      "execution_count": null,
      "metadata": {
        "id": "N7hAf6MeNaax"
      },
      "outputs": [],
      "source": [
        "kmeans = KMeans(n_clusters = 9, init = 'k-means++', random_state = 101)\n",
        "kmeans.fit(data_scaled)\n",
        "pred = kmeans.predict(data_scaled)"
      ]
    },
    {
      "cell_type": "code",
      "execution_count": null,
      "metadata": {
        "id": "1HNT54NxNaax"
      },
      "outputs": [],
      "source": [
        "pred = pd.Series(pred)"
      ]
    },
    {
      "cell_type": "markdown",
      "metadata": {
        "id": "TIX_Vo32Naay"
      },
      "source": [
        "**Find the number of pontints in each cluster using `value_counts()` on `pred`**"
      ]
    },
    {
      "cell_type": "code",
      "execution_count": null,
      "metadata": {
        "id": "rPmiB14jNaaz",
        "colab": {
          "base_uri": "https://localhost:8080/"
        },
        "outputId": "00baa858-ac42-487b-ca47-eceb9c8ba2ef"
      },
      "outputs": [
        {
          "output_type": "stream",
          "name": "stdout",
          "text": [
            "5    97\n",
            "7    34\n",
            "1    30\n",
            "4    24\n",
            "8    16\n",
            "2     6\n",
            "0     4\n",
            "3     2\n",
            "6     1\n",
            "dtype: int64\n"
          ]
        }
      ],
      "source": [
        "\"\"\"\n",
        "Find number of pontints in each cluster here\n",
        "\"\"\"\n",
        "print(pred.value_counts())"
      ]
    },
    {
      "cell_type": "code",
      "source": [
        "label=kmeans.labels_\n",
        "print(label)"
      ],
      "metadata": {
        "colab": {
          "base_uri": "https://localhost:8080/"
        },
        "id": "vX5s1TU5FC0P",
        "outputId": "f83270ad-b65d-4bfc-b088-8c60ee04b4ea"
      },
      "execution_count": null,
      "outputs": [
        {
          "output_type": "stream",
          "name": "stdout",
          "text": [
            "[1 5 5 5 5 7 5 5 5 5 7 5 7 7 5 5 5 1 1 5 7 1 5 5 5 5 5 5 5 5 7 5 7 5 5 5 1\n",
            " 5 1 1 5 5 5 1 7 5 7 1 1 5 1 5 5 5 5 7 7 5 5 5 5 1 1 1 1 1 1 1 1 1 5 7 5 5\n",
            " 5 5 5 5 7 5 5 5 5 5 5 5 5 5 5 5 7 5 7 5 5 5 7 7 5 5 7 5 7 1 1 2 6 2 8 8 2\n",
            " 2 2 7 5 5 5 5 7 5 5 7 5 5 5 7 5 1 7 1 8 2 5 7 5 7 7 5 5 5 5 7 7 5 7 7 5 5\n",
            " 5 5 7 1 5 5 5 5 5 1 5 5 5 7 1 0 8 8 8 8 8 8 8 3 3 8 7 8 5 5 5 5 4 8 8 8 4\n",
            " 0 0 1 1 1 4 4 4 4 4 4 4 4 4 4 4 8 4 4 4 4 4 0 4 4 4 4 4 4]\n"
          ]
        }
      ]
    },
    {
      "cell_type": "code",
      "source": [
        "u_labels = np.unique(label)\n",
        "#plotting the results:\n",
        "plt.figure(figsize=(15, 10))\n",
        "for i in u_labels:\n",
        "  plt.scatter(data_scaled[label == i , 0] , data_scaled[label == i , 1] , label = i, s=90)\n",
        "plt.legend()\n",
        "plt.show()"
      ],
      "metadata": {
        "colab": {
          "base_uri": "https://localhost:8080/",
          "height": 592
        },
        "id": "3E33QPS6HU1a",
        "outputId": "fb3a6da2-9ee2-4d52-9e97-b13ba1a951ae"
      },
      "execution_count": null,
      "outputs": [
        {
          "output_type": "display_data",
          "data": {
            "text/plain": [
              "<Figure size 1080x720 with 1 Axes>"
            ],
            "image/png": "[encoded data removed]"
          },
          "metadata": {
            "needs_background": "light"
          }
        }
      ]
    },
    {
      "cell_type": "code",
      "source": [
        "#Getting the Centroids\n",
        "centroids = kmeans.cluster_centers_\n",
        "u_labels = np.unique(label)\n",
        "\n",
        "#plotting the results:\n",
        "plt.figure(figsize=(15, 10))\n",
        "for i in u_labels:\n",
        "    plt.scatter(data_scaled[label == i , 0] , data_scaled[label == i , 1] ,label = i, s=90)\n",
        "plt.scatter(centroids[:,0] , centroids[:,1] , s = 30, color = 'Black')\n",
        "plt.legend()\n",
        "plt.show()"
      ],
      "metadata": {
        "colab": {
          "base_uri": "https://localhost:8080/",
          "height": 592
        },
        "id": "m0Efp1fLHbRC",
        "outputId": "fdbc1cad-7476-4fd1-cbe2-e0d9bafb576f"
      },
      "execution_count": null,
      "outputs": [
        {
          "output_type": "display_data",
          "data": {
            "text/plain": [
              "<Figure size 1080x720 with 1 Axes>"
            ],
            "image/png": "[encoded data removed]"
          },
          "metadata": {
            "needs_background": "light"
          }
        }
      ]
    }
  ],
  "metadata": {
    "kernelspec": {
      "display_name": "Python 3",
      "language": "python",
      "name": "python3"
    },
    "language_info": {
      "codemirror_mode": {
        "name": "ipython",
        "version": 3
      },
      "file_extension": ".py",
      "mimetype": "text/x-python",
      "name": "python",
      "nbconvert_exporter": "python",
      "pygments_lexer": "ipython3",
      "version": "3.9.1"
    },
    "orig_nbformat": 4,
    "vscode": {
      "interpreter": {
        "hash": "07d623e3832b78ce69fa2c095939a54ed4f3e8fe6909ed4ae68f2da80f027625"
      }
    },
    "colab": {
      "provenance": [],
      "include_colab_link": true
    }
  },
  "nbformat": 4,
  "nbformat_minor": 0
}